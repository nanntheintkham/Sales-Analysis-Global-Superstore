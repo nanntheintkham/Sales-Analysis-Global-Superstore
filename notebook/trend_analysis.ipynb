{
 "cells": [
  {
   "cell_type": "markdown",
   "id": "8004b21b-473d-4cb7-ad54-011043792a31",
   "metadata": {},
   "source": [
    "# Trend Analysis of Sales Data"
   ]
  },
  {
   "cell_type": "markdown",
   "id": "e381bad9-60e0-4273-ba5a-15d1bbbbc20b",
   "metadata": {},
   "source": [
    "## Introduction\n",
    "This analysis aims to explore the trends in the sales data from the Global Superstore dataset. We'll analyze how sales, profits, and quantities have evolved over time, and how they vary by category, region, and other factors."
   ]
  },
  {
   "cell_type": "markdown",
   "id": "d679fdbd-92c2-47dc-adc1-cd0c962c3644",
   "metadata": {},
   "source": [
    "## Data Preprocessing\n",
    "In this section, we process the dataset, parse the date columns, and create additional features such as 'year_month' to aggregate the data by time."
   ]
  },
  {
   "cell_type": "code",
   "execution_count": null,
   "id": "4cc04bd0-134e-48aa-af97-07518330ec77",
   "metadata": {},
   "outputs": [],
   "source": [
    "import pandas as pd\n",
    "\n",
    "# Load the dataset\n",
    "df = pd.read_csv('../data/cleaned_superstore.csv')"
   ]
  },
  {
   "cell_type": "code",
   "execution_count": null,
   "id": "851d8019-0537-4d36-853e-a737d50dba5f",
   "metadata": {},
   "outputs": [],
   "source": [
    "# Convert Order.Date to datetime if not already done\n",
    "df['Order.Date'] = pd.to_datetime(df['Order.Date'])\n",
    "\n",
    "# Extract year, month, and day to create a new 'year_month' column\n",
    "df['year_month'] = df['Order.Date'].dt.to_period('M')"
   ]
  },
  {
   "cell_type": "markdown",
   "id": "910a8af2-04cb-406f-a2ec-4e13890786a2",
   "metadata": {},
   "source": [
    "## Trend Analysis\n",
    "We analyze the sales, profit, and quantity trends over time using line plots and describe any observed patterns."
   ]
  },
  {
   "cell_type": "code",
   "execution_count": null,
   "id": "6e413b89-b7e7-492f-8112-da0a2fe2f5bc",
   "metadata": {},
   "outputs": [],
   "source": [
    "monthly_sales = df.groupby('year_month')['Sales'].sum()\n",
    "monthly_sales.plot(kind='line', figsize=(10, 6), title=\"Monthly Sales Trend\")"
   ]
  },
  {
   "cell_type": "markdown",
   "id": "e7d6100f-2c8f-4498-9d53-33566d90554b",
   "metadata": {},
   "source": [
    "## Sales by Category\n",
    "Here we break down the sales data by product category to observe trends and differences in performance across categories."
   ]
  },
  {
   "cell_type": "code",
   "execution_count": null,
   "id": "282d79de-a2bc-42a2-9fa4-927ee310cb29",
   "metadata": {},
   "outputs": [],
   "source": [
    "category_sales = df.groupby(['year_month', 'Category'])['Sales'].sum().unstack()\n",
    "category_sales.plot(kind='line', figsize=(12, 6), title=\"Sales Trend by Category\")"
   ]
  },
  {
   "cell_type": "markdown",
   "id": "b81e75c8-5f65-4de6-847e-91a4fad87056",
   "metadata": {},
   "source": [
    "## Profitability and Discounts\n",
    "We explore the relationship between discounts and profitability and identify any patterns."
   ]
  },
  {
   "cell_type": "code",
   "execution_count": null,
   "id": "e2c88c08-6b75-4cc4-8263-179006656810",
   "metadata": {},
   "outputs": [],
   "source": [
    "df.plot(kind='scatter', x='Discount', y='Profit', alpha=0.5, figsize=(10, 6), title=\"Profit vs Discount\")"
   ]
  },
  {
   "cell_type": "markdown",
   "id": "21cc08ca-d3e6-4de7-97e9-5726b6732c5c",
   "metadata": {},
   "source": [
    "## Correlation Analysis\n",
    "A correlation matrix is computed to examine relationships between numerical variables in the dataset."
   ]
  },
  {
   "cell_type": "code",
   "execution_count": null,
   "id": "45b1f447-af1e-4202-b1cb-717326632acd",
   "metadata": {},
   "outputs": [],
   "source": [
    "correlation_matrix = df[['Sales', 'Profit', 'Discount', 'Quantity']].corr()\n",
    "import seaborn as sns\n",
    "import matplotlib.pyplot as plt\n",
    "\n",
    "plt.figure(figsize=(8, 6))\n",
    "sns.heatmap(correlation_matrix, annot=True, cmap='coolwarm', fmt='.2f')\n",
    "plt.title(\"Correlation Matrix\")\n",
    "plt.show()"
   ]
  },
  {
   "cell_type": "markdown",
   "id": "62240875-eed7-4a28-ad29-3c49da7927d6",
   "metadata": {},
   "source": [
    "## Outliers and Anomalies\n",
    "We check for any significant outliers or anomalies in the data using boxplots.\n"
   ]
  },
  {
   "cell_type": "code",
   "execution_count": null,
   "id": "909cfd1a-32fd-4308-9983-a138d8b3985e",
   "metadata": {},
   "outputs": [],
   "source": [
    "sns.boxplot(data=df[['Sales', 'Profit', 'Quantity']])\n",
    "plt.title(\"Boxplot for Outliers\")\n",
    "plt.show()\n"
   ]
  },
  {
   "cell_type": "markdown",
   "id": "b761e3a3-039a-4f59-b6cd-b429cb42c148",
   "metadata": {},
   "source": [
    "## Conclusions\n",
    "This analysis provides a comprehensive overview of our sales performance from 2011 to 2014, examining key metrics across product categories, seasonal trends, and financial indicators.\n"
   ]
  },
  {
   "cell_type": "markdown",
   "id": "68bdee18-7788-4faa-8c14-8c20484f0ae8",
   "metadata": {},
   "source": [
    "## 1. Overall Sales Trajectory\n",
    "\n",
    "### Key Observations\n",
    "- **Consistent Growth**: Sales increased from ~50,000 to nearly 450,000 between 2011-2014\n",
    "- **Steady Upward Trend**: Demonstrates robust and sustained business expansion"
   ]
  },
  {
   "cell_type": "markdown",
   "id": "d16f466e-1403-4ae0-ab9e-5e33e115a544",
   "metadata": {},
   "source": [
    "## 2. Product Category Performance\n",
    "\n",
    "### Comparative Analysis\n",
    "| Category | Growth Characteristics | Key Insights |\n",
    "|----------|------------------------|--------------|\n",
    "| Technology | 🚀 Most Dynamic | Highest variability and frequent peak performances |\n",
    "| Furniture | 📊 Stable | Consistent performance, closely tracking market trends |\n",
    "| Office Supplies | 📈 Moderate | Steady growth, minimal fluctuations |"
   ]
  },
  {
   "cell_type": "markdown",
   "id": "b3947d12-6f3a-4083-a595-a88335d881ba",
   "metadata": {},
   "source": [
    "## 3. Seasonal Patterns\n",
    "\n",
    "### Recurring Trends\n",
    "- **Mid-Year Peaks**: Consistent sales spikes around July\n",
    "- **End-of-Year Surge**: Noticeable increases during holiday seasons\n",
    "- **All Categories Aligned**: Seasonal variations consistent across product lines"
   ]
  },
  {
   "cell_type": "markdown",
   "id": "0b62d8fe-6414-4657-998d-8a57e9b7add3",
   "metadata": {},
   "source": [
    "## 4. Discount and Profitability Insights\n",
    "\n",
    "### Pricing Strategy Recommendations\n",
    "- **Discount Caution**: Negative correlation between discounts and profit\n",
    "- **Optimal Discount Range**: 0-30% appears most profitable\n",
    "- **Profit Variability**: Significant fluctuations based on discount levels"
   ]
  },
  {
   "cell_type": "markdown",
   "id": "c5b6fa86-668e-4e65-bcd9-29667be49392",
   "metadata": {},
   "source": [
    "## 5. Correlation Analysis\n",
    "\n",
    "### Key Relationships\n",
    "- **Sales ↔️ Profit**: Strong Positive Correlation (0.58)\n",
    "- **Discount ↔️ Profit**: Moderate Negative Correlation (-0.47)\n",
    "- **Sales ↔️ Quantity**: Weak Positive Correlation (0.36)"
   ]
  },
  {
   "cell_type": "markdown",
   "id": "151f5e7e-36b9-4a93-a7d4-a51156ccba8c",
   "metadata": {},
   "source": [
    "## Strategic Recommendations\n",
    "\n",
    "1. **Technology Focus**\n",
    "   - Allocate more resources to technology product line\n",
    "   - Develop targeted marketing strategies\n",
    "\n",
    "2. **Pricing Optimization**\n",
    "   - Implement data-driven discount strategies\n",
    "   - Minimize discounts above 30%\n",
    "\n",
    "3. **Seasonal Preparedness**\n",
    "   - Develop robust inventory management\n",
    "   - Create seasonal marketing campaigns\n",
    "   - Prepare for mid-year and end-of-year sales peaks"
   ]
  },
  {
   "cell_type": "markdown",
   "id": "d649ac66-fa54-46d6-a693-dbb059a523f5",
   "metadata": {},
   "source": [
    "*Analysis Period: 2011-2014*\n",
    "*Last Updated: March 2025*"
   ]
  },
  {
   "cell_type": "code",
   "execution_count": null,
   "id": "33793b8c-d806-4a77-ae49-04b199e61fda",
   "metadata": {},
   "outputs": [],
   "source": []
  }
 ],
 "metadata": {
  "kernelspec": {
   "display_name": "Python 3 (ipykernel)",
   "language": "python",
   "name": "python3"
  },
  "language_info": {
   "codemirror_mode": {
    "name": "ipython",
    "version": 3
   },
   "file_extension": ".py",
   "mimetype": "text/x-python",
   "name": "python",
   "nbconvert_exporter": "python",
   "pygments_lexer": "ipython3",
   "version": "3.12.0"
  }
 },
 "nbformat": 4,
 "nbformat_minor": 5
}
