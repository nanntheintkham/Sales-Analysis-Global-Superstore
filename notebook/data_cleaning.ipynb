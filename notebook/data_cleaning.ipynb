{
 "cells": [
  {
   "cell_type": "markdown",
   "id": "bb43ded7-5069-4c47-9239-8ce79fb282fe",
   "metadata": {},
   "source": [
    "# Data Cleaning and Preparation for Sales Analysis\n",
    "This notebook demonstrates the process of cleaning and preparing the Global Superstore dataset for further analysis. The dataset contains sales data, customer information, product details, and shipping data. The goal is to clean the dataset by handling missing values, duplicates, outliers, and data type issues before conducting deeper analysis."
   ]
  },
  {
   "cell_type": "markdown",
   "id": "16e7ee9a-bd1d-4f48-85dc-c132499a223a",
   "metadata": {},
   "source": [
    "## Loading the Data\n",
    "We start by loading the dataset from a CSV file and taking an initial look at the first few rows to understand its structure.\n"
   ]
  },
  {
   "cell_type": "code",
   "execution_count": 1,
   "id": "24fec98d-0bac-4adc-b2bf-23f440497030",
   "metadata": {},
   "outputs": [],
   "source": [
    "import pandas as pd\n",
    "\n",
    "# Load the dataset\n",
    "df = pd.read_csv('../data/superstore.csv')"
   ]
  },
  {
   "cell_type": "markdown",
   "id": "e02b1b9f-8b4d-49c5-8e67-3264ac2ce90d",
   "metadata": {},
   "source": [
    "## Exploratory Data Analysis\n",
    "Before cleaning the data, we check the basic structure and summary statistics to understand the dataset's features. This includes column names, data types, and any potential issues."
   ]
  },
  {
   "cell_type": "code",
   "execution_count": 2,
   "id": "98cdcd48-e41a-4a97-97f8-4004709c10db",
   "metadata": {},
   "outputs": [
    {
     "name": "stdout",
     "output_type": "stream",
     "text": [
      "          Category         City        Country Customer.ID     Customer.Name  \\\n",
      "0  Office Supplies  Los Angeles  United States   LS-172304  Lycoris Saunders   \n",
      "1  Office Supplies  Los Angeles  United States   MV-174854     Mark Van Huff   \n",
      "2  Office Supplies  Los Angeles  United States   CS-121304      Chad Sievert   \n",
      "3  Office Supplies  Los Angeles  United States   CS-121304      Chad Sievert   \n",
      "4  Office Supplies  Los Angeles  United States   AP-109154    Arthur Prichep   \n",
      "\n",
      "   Discount Market  记录数               Order.Date        Order.ID  ... Sales  \\\n",
      "0       0.0     US    1  2011-01-07 00:00:00.000  CA-2011-130813  ...    19   \n",
      "1       0.0     US    1  2011-01-21 00:00:00.000  CA-2011-148614  ...    19   \n",
      "2       0.0     US    1  2011-08-05 00:00:00.000  CA-2011-118962  ...    21   \n",
      "3       0.0     US    1  2011-08-05 00:00:00.000  CA-2011-118962  ...   111   \n",
      "4       0.0     US    1  2011-09-29 00:00:00.000  CA-2011-146969  ...     6   \n",
      "\n",
      "    Segment                Ship.Date       Ship.Mode  Shipping.Cost  \\\n",
      "0  Consumer  2011-01-09 00:00:00.000    Second Class           4.37   \n",
      "1  Consumer  2011-01-26 00:00:00.000  Standard Class           0.94   \n",
      "2  Consumer  2011-08-09 00:00:00.000  Standard Class           1.81   \n",
      "3  Consumer  2011-08-09 00:00:00.000  Standard Class           4.59   \n",
      "4  Consumer  2011-10-03 00:00:00.000  Standard Class           1.32   \n",
      "\n",
      "        State  Sub.Category  Year        Market2 weeknum  \n",
      "0  California         Paper  2011  North America       2  \n",
      "1  California         Paper  2011  North America       4  \n",
      "2  California         Paper  2011  North America      32  \n",
      "3  California         Paper  2011  North America      32  \n",
      "4  California         Paper  2011  North America      40  \n",
      "\n",
      "[5 rows x 27 columns]\n",
      "(51290, 27)\n",
      "Index(['Category', 'City', 'Country', 'Customer.ID', 'Customer.Name',\n",
      "       'Discount', 'Market', '记录数', 'Order.Date', 'Order.ID', 'Order.Priority',\n",
      "       'Product.ID', 'Product.Name', 'Profit', 'Quantity', 'Region', 'Row.ID',\n",
      "       'Sales', 'Segment', 'Ship.Date', 'Ship.Mode', 'Shipping.Cost', 'State',\n",
      "       'Sub.Category', 'Year', 'Market2', 'weeknum'],\n",
      "      dtype='object')\n",
      "           Discount      记录数        Profit      Quantity       Row.ID  \\\n",
      "count  51290.000000  51290.0  51290.000000  51290.000000  51290.00000   \n",
      "mean       0.142908      1.0     28.610982      3.476545  25645.50000   \n",
      "std        0.212280      0.0    174.340972      2.278766  14806.29199   \n",
      "min        0.000000      1.0  -6599.978000      1.000000      1.00000   \n",
      "25%        0.000000      1.0      0.000000      2.000000  12823.25000   \n",
      "50%        0.000000      1.0      9.240000      3.000000  25645.50000   \n",
      "75%        0.200000      1.0     36.810000      5.000000  38467.75000   \n",
      "max        0.850000      1.0   8399.976000     14.000000  51290.00000   \n",
      "\n",
      "              Sales  Shipping.Cost          Year       weeknum  \n",
      "count  51290.000000   51290.000000  51290.000000  51290.000000  \n",
      "mean     246.498440      26.375818   2012.777208     31.287112  \n",
      "std      487.567175      57.296810      1.098931     14.429795  \n",
      "min        0.000000       0.002000   2011.000000      1.000000  \n",
      "25%       31.000000       2.610000   2012.000000     20.000000  \n",
      "50%       85.000000       7.790000   2013.000000     33.000000  \n",
      "75%      251.000000      24.450000   2014.000000     44.000000  \n",
      "max    22638.000000     933.570000   2014.000000     53.000000  \n"
     ]
    }
   ],
   "source": [
    "# Get the first 5 rows of the spreadsheet\n",
    "print(df.head())\n",
    "\n",
    "# Get the shape of the spreadsheet\n",
    "print(df.shape)\n",
    "\n",
    "# Get the column names of the spreadsheet\n",
    "print(df.columns)\n",
    "\n",
    "# Get summary statistics for each column to understand data distribution\n",
    "print(df.describe())"
   ]
  },
  {
   "cell_type": "markdown",
   "id": "0fd7bdb9-14d1-41c1-8ec3-6be6b57eb545",
   "metadata": {},
   "source": [
    "## Renaming the column with Chinese\n",
    "We can see that there is a column name with Chinese character from the column names and we will use googletrans for translating"
   ]
  },
  {
   "cell_type": "code",
   "execution_count": 3,
   "id": "c2f30594-623c-446d-9b02-73c426fccf43",
   "metadata": {},
   "outputs": [],
   "source": [
    "# Translate column name from Chinese to English using googletrans\n",
    "from googletrans import Translator\n",
    "\n",
    "# Rename the '记录数' column to 'Number of records' after translation\n",
    "translator = Translator()\n",
    "df.rename(columns={'记录数': translator.translate('记录数', src='zh-cn', dest='en').text}, inplace=True)"
   ]
  },
  {
   "cell_type": "markdown",
   "id": "0c8e9637-2745-4691-97d1-3210309f5115",
   "metadata": {},
   "source": [
    "## Handling Missing Data\n",
    "We will check for missing values across all columns and decide how to handle them. Since this dataset does not contain any missing values, we will proceed to the next step."
   ]
  },
  {
   "cell_type": "code",
   "execution_count": 4,
   "id": "326d383d-b9b5-40d0-af77-5fd7494c5205",
   "metadata": {},
   "outputs": [
    {
     "data": {
      "text/plain": [
       "Category             0\n",
       "City                 0\n",
       "Country              0\n",
       "Customer.ID          0\n",
       "Customer.Name        0\n",
       "Discount             0\n",
       "Market               0\n",
       "Number of records    0\n",
       "Order.Date           0\n",
       "Order.ID             0\n",
       "Order.Priority       0\n",
       "Product.ID           0\n",
       "Product.Name         0\n",
       "Profit               0\n",
       "Quantity             0\n",
       "Region               0\n",
       "Row.ID               0\n",
       "Sales                0\n",
       "Segment              0\n",
       "Ship.Date            0\n",
       "Ship.Mode            0\n",
       "Shipping.Cost        0\n",
       "State                0\n",
       "Sub.Category         0\n",
       "Year                 0\n",
       "Market2              0\n",
       "weeknum              0\n",
       "dtype: int64"
      ]
     },
     "execution_count": 4,
     "metadata": {},
     "output_type": "execute_result"
    }
   ],
   "source": [
    "# check for missing values\n",
    "df.isnull().sum()"
   ]
  },
  {
   "cell_type": "markdown",
   "id": "64462c82-966e-4e72-b6c8-e8da0a685d40",
   "metadata": {},
   "source": [
    "## Handling Duplicates\n",
    "Duplicate entries can affect analysis. We check and remove any duplicate rows from the dataset to ensure that we are working with unique data."
   ]
  },
  {
   "cell_type": "code",
   "execution_count": 5,
   "id": "a8fcab2c-c105-4814-8bd9-de0e7e8b6b07",
   "metadata": {},
   "outputs": [
    {
     "data": {
      "text/plain": [
       "0"
      ]
     },
     "execution_count": 5,
     "metadata": {},
     "output_type": "execute_result"
    }
   ],
   "source": [
    "#check for duplicates\n",
    "df.duplicated().sum()"
   ]
  },
  {
   "cell_type": "markdown",
   "id": "11d58642-de8b-4859-a585-cdf74eec4557",
   "metadata": {},
   "source": [
    "## Data Type Optimization\n",
    "To optimize memory usage and improve performance, we convert categorical columns to the `category` data type."
   ]
  },
  {
   "cell_type": "code",
   "execution_count": 6,
   "id": "1c2d9404-8f89-46bd-ac6d-e77ba8a59c43",
   "metadata": {},
   "outputs": [],
   "source": [
    "# Optimize categorical columns by changing them to 'category' data type\n",
    "cat_cols = ['Category', 'City', 'Country', 'Market', 'Market2', 'Segment', 'Ship.Mode', 'State', 'Sub.Category', 'Order.Priority']\n",
    "df[cat_cols] = df[cat_cols].astype('category')"
   ]
  },
  {
   "cell_type": "markdown",
   "id": "929190e9-faa6-42c2-ad9a-60275447fae2",
   "metadata": {},
   "source": [
    "## Data types check and changing the data type\n",
    "We will check the data types for the columns and change the data type if needed"
   ]
  },
  {
   "cell_type": "code",
   "execution_count": 7,
   "id": "bfed50a0-cb08-4af7-afbe-69dcfec9b956",
   "metadata": {},
   "outputs": [
    {
     "data": {
      "text/plain": [
       "Category             category\n",
       "City                 category\n",
       "Country              category\n",
       "Customer.ID            object\n",
       "Customer.Name          object\n",
       "Discount              float64\n",
       "Market               category\n",
       "Number of records       int64\n",
       "Order.Date             object\n",
       "Order.ID               object\n",
       "Order.Priority       category\n",
       "Product.ID             object\n",
       "Product.Name           object\n",
       "Profit                float64\n",
       "Quantity                int64\n",
       "Region                 object\n",
       "Row.ID                  int64\n",
       "Sales                   int64\n",
       "Segment              category\n",
       "Ship.Date              object\n",
       "Ship.Mode            category\n",
       "Shipping.Cost         float64\n",
       "State                category\n",
       "Sub.Category         category\n",
       "Year                    int64\n",
       "Market2              category\n",
       "weeknum                 int64\n",
       "dtype: object"
      ]
     },
     "execution_count": 7,
     "metadata": {},
     "output_type": "execute_result"
    }
   ],
   "source": [
    "# check data types\n",
    "df.dtypes"
   ]
  },
  {
   "cell_type": "code",
   "execution_count": 8,
   "id": "3320f20d-9638-4080-b119-01bf63a08ae3",
   "metadata": {},
   "outputs": [],
   "source": [
    "# Convert 'Order.Date' and 'Ship.Date' to datetime format for better manipulation\n",
    "df['Order.Date'] = pd.to_datetime(df['Order.Date'])\n",
    "df['Ship.Date'] = pd.to_datetime(df['Ship.Date'])"
   ]
  },
  {
   "cell_type": "markdown",
   "id": "301ac6ac-3936-4d59-87ad-be5fa0c22a92",
   "metadata": {},
   "source": [
    "## Outlier Handling (Winsorization)\n",
    "Outliers can distort analysis and lead to misleading results. In this notebook, we handle outliers by applying Winsorization, which caps values above the 95th percentile and below the 5th percentile."
   ]
  },
  {
   "cell_type": "code",
   "execution_count": 9,
   "id": "f89db1ee-3c76-480b-99e0-84b5a84a2ad8",
   "metadata": {},
   "outputs": [
    {
     "data": {
      "text/html": [
       "<div>\n",
       "<style scoped>\n",
       "    .dataframe tbody tr th:only-of-type {\n",
       "        vertical-align: middle;\n",
       "    }\n",
       "\n",
       "    .dataframe tbody tr th {\n",
       "        vertical-align: top;\n",
       "    }\n",
       "\n",
       "    .dataframe thead th {\n",
       "        text-align: right;\n",
       "    }\n",
       "</style>\n",
       "<table border=\"1\" class=\"dataframe\">\n",
       "  <thead>\n",
       "    <tr style=\"text-align: right;\">\n",
       "      <th></th>\n",
       "      <th>Sales</th>\n",
       "      <th>Profit</th>\n",
       "      <th>Discount</th>\n",
       "      <th>Shipping.Cost</th>\n",
       "    </tr>\n",
       "  </thead>\n",
       "  <tbody>\n",
       "    <tr>\n",
       "      <th>count</th>\n",
       "      <td>51290.000000</td>\n",
       "      <td>51290.000000</td>\n",
       "      <td>51290.000000</td>\n",
       "      <td>51290.000000</td>\n",
       "    </tr>\n",
       "    <tr>\n",
       "      <th>mean</th>\n",
       "      <td>246.498440</td>\n",
       "      <td>28.610982</td>\n",
       "      <td>0.142908</td>\n",
       "      <td>26.375818</td>\n",
       "    </tr>\n",
       "    <tr>\n",
       "      <th>std</th>\n",
       "      <td>487.567175</td>\n",
       "      <td>174.340972</td>\n",
       "      <td>0.212280</td>\n",
       "      <td>57.296810</td>\n",
       "    </tr>\n",
       "    <tr>\n",
       "      <th>min</th>\n",
       "      <td>0.000000</td>\n",
       "      <td>-6599.978000</td>\n",
       "      <td>0.000000</td>\n",
       "      <td>0.002000</td>\n",
       "    </tr>\n",
       "    <tr>\n",
       "      <th>25%</th>\n",
       "      <td>31.000000</td>\n",
       "      <td>0.000000</td>\n",
       "      <td>0.000000</td>\n",
       "      <td>2.610000</td>\n",
       "    </tr>\n",
       "    <tr>\n",
       "      <th>50%</th>\n",
       "      <td>85.000000</td>\n",
       "      <td>9.240000</td>\n",
       "      <td>0.000000</td>\n",
       "      <td>7.790000</td>\n",
       "    </tr>\n",
       "    <tr>\n",
       "      <th>75%</th>\n",
       "      <td>251.000000</td>\n",
       "      <td>36.810000</td>\n",
       "      <td>0.200000</td>\n",
       "      <td>24.450000</td>\n",
       "    </tr>\n",
       "    <tr>\n",
       "      <th>max</th>\n",
       "      <td>22638.000000</td>\n",
       "      <td>8399.976000</td>\n",
       "      <td>0.850000</td>\n",
       "      <td>933.570000</td>\n",
       "    </tr>\n",
       "  </tbody>\n",
       "</table>\n",
       "</div>"
      ],
      "text/plain": [
       "              Sales        Profit      Discount  Shipping.Cost\n",
       "count  51290.000000  51290.000000  51290.000000   51290.000000\n",
       "mean     246.498440     28.610982      0.142908      26.375818\n",
       "std      487.567175    174.340972      0.212280      57.296810\n",
       "min        0.000000  -6599.978000      0.000000       0.002000\n",
       "25%       31.000000      0.000000      0.000000       2.610000\n",
       "50%       85.000000      9.240000      0.000000       7.790000\n",
       "75%      251.000000     36.810000      0.200000      24.450000\n",
       "max    22638.000000   8399.976000      0.850000     933.570000"
      ]
     },
     "execution_count": 9,
     "metadata": {},
     "output_type": "execute_result"
    }
   ],
   "source": [
    "# Outlier check: Get basic statistics for numerical columns\n",
    "df[['Sales', 'Profit', 'Discount', 'Shipping.Cost']].describe()"
   ]
  },
  {
   "cell_type": "code",
   "execution_count": 10,
   "id": "df84c06c-920a-4d6d-8b75-3164cfc00f46",
   "metadata": {},
   "outputs": [
    {
     "data": {
      "image/png": "[encoded data removed]",
      "text/plain": [
       "<Figure size 1000x500 with 1 Axes>"
      ]
     },
     "metadata": {},
     "output_type": "display_data"
    }
   ],
   "source": [
    "# Visualize potential outliers in numerical columns using a boxplot\n",
    "import seaborn as sns\n",
    "import matplotlib.pyplot as plt\n",
    "\n",
    "plt.figure(figsize=(10, 5))\n",
    "sns.boxplot(data=df[['Quantity','Sales', 'Profit', 'Discount', 'Shipping.Cost']])\n",
    "plt.show()"
   ]
  },
  {
   "cell_type": "code",
   "execution_count": 11,
   "id": "061d6b8b-b733-4d78-8508-13a41284ccdf",
   "metadata": {},
   "outputs": [],
   "source": [
    "# Outlier treatment using Winsorization: We will cap extreme values to a specific percentile range (e.g., 5th to 95th percentile)\n",
    "import numpy as np\n",
    "# winsorization for outliers\n",
    "numeric_columns = ['Sales', 'Profit', 'Quantity', 'Discount']\n",
    "\n",
    "# Define the lower and upper percentiles\n",
    "lower_percentile = 5\n",
    "upper_percentile = 95\n",
    "\n",
    "# Apply Winsorization to each numeric column\n",
    "for column in numeric_columns:\n",
    "    lower_limit = np.percentile(df[column], lower_percentile)\n",
    "    upper_limit = np.percentile(df[column], upper_percentile)\n",
    "    \n",
    "    # Cap the outliers using the clip function\n",
    "    df[column] = df[column].clip(lower=lower_limit, upper=upper_limit)"
   ]
  },
  {
   "cell_type": "code",
   "execution_count": 12,
   "id": "b5768790-54f4-4015-acbd-67b325ae78ec",
   "metadata": {},
   "outputs": [
    {
     "name": "stdout",
     "output_type": "stream",
     "text": [
      "          Category         City        Country Customer.ID     Customer.Name  \\\n",
      "0  Office Supplies  Los Angeles  United States   LS-172304  Lycoris Saunders   \n",
      "1  Office Supplies  Los Angeles  United States   MV-174854     Mark Van Huff   \n",
      "2  Office Supplies  Los Angeles  United States   CS-121304      Chad Sievert   \n",
      "3  Office Supplies  Los Angeles  United States   CS-121304      Chad Sievert   \n",
      "4  Office Supplies  Los Angeles  United States   AP-109154    Arthur Prichep   \n",
      "\n",
      "   Discount Market  Number of records Order.Date        Order.ID  ... Sales  \\\n",
      "0       0.0     US                  1 2011-01-07  CA-2011-130813  ...    19   \n",
      "1       0.0     US                  1 2011-01-21  CA-2011-148614  ...    19   \n",
      "2       0.0     US                  1 2011-08-05  CA-2011-118962  ...    21   \n",
      "3       0.0     US                  1 2011-08-05  CA-2011-118962  ...   111   \n",
      "4       0.0     US                  1 2011-09-29  CA-2011-146969  ...     9   \n",
      "\n",
      "    Segment  Ship.Date       Ship.Mode  Shipping.Cost       State  \\\n",
      "0  Consumer 2011-01-09    Second Class           4.37  California   \n",
      "1  Consumer 2011-01-26  Standard Class           0.94  California   \n",
      "2  Consumer 2011-08-09  Standard Class           1.81  California   \n",
      "3  Consumer 2011-08-09  Standard Class           4.59  California   \n",
      "4  Consumer 2011-10-03  Standard Class           1.32  California   \n",
      "\n",
      "   Sub.Category  Year        Market2 weeknum  \n",
      "0         Paper  2011  North America       2  \n",
      "1         Paper  2011  North America       4  \n",
      "2         Paper  2011  North America      32  \n",
      "3         Paper  2011  North America      32  \n",
      "4         Paper  2011  North America      40  \n",
      "\n",
      "[5 rows x 27 columns]\n"
     ]
    }
   ],
   "source": [
    "# Display the cleaned dataset's first 5 rows to confirm the changes\n",
    "\n",
    "print(df.head())"
   ]
  },
  {
   "cell_type": "markdown",
   "id": "3dac8549-020f-4dce-b040-05256af434fd",
   "metadata": {},
   "source": [
    "## Saving the Cleaned Dataset\n",
    "After performing all the necessary data cleaning steps, we save the cleaned dataset to a new CSV file for future analysis.\n"
   ]
  },
  {
   "cell_type": "code",
   "execution_count": 13,
   "id": "1637edcf-44a4-472a-b707-d37ee436a700",
   "metadata": {},
   "outputs": [
    {
     "name": "stdout",
     "output_type": "stream",
     "text": [
      "Cleaned dataset saved successfully!\n"
     ]
    }
   ],
   "source": [
    "# Save the cleaned dataframe to a new CSV file\n",
    "df.to_csv('../data/cleaned_superstore.csv', index=False)\n",
    "\n",
    "# Check if the file has been saved correctly\n",
    "print(\"Cleaned dataset saved successfully!\")"
   ]
  },
  {
   "cell_type": "markdown",
   "id": "700fa0d3-cc54-4a04-8efa-f8cb98b0ca0a",
   "metadata": {},
   "source": [
    "# Conclusion\n",
    "In this notebook, we've successfully cleaned and prepared the dataset. The next step will be to perform detailed analysis and visualizations based on this cleaned data."
   ]
  },
  {
   "cell_type": "code",
   "execution_count": null,
   "id": "15287cad-02e6-4200-a53f-73201fcdcd47",
   "metadata": {},
   "outputs": [],
   "source": []
  }
 ],
 "metadata": {
  "kernelspec": {
   "display_name": "Python 3 (ipykernel)",
   "language": "python",
   "name": "python3"
  },
  "language_info": {
   "codemirror_mode": {
    "name": "ipython",
    "version": 3
   },
   "file_extension": ".py",
   "mimetype": "text/x-python",
   "name": "python",
   "nbconvert_exporter": "python",
   "pygments_lexer": "ipython3",
   "version": "3.12.0"
  }
 },
 "nbformat": 4,
 "nbformat_minor": 5
}
